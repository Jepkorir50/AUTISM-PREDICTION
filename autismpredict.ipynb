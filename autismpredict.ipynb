{
 "cells": [
  {
   "cell_type": "code",
   "execution_count": 1,
   "metadata": {},
   "outputs": [
    {
     "name": "stderr",
     "output_type": "stream",
     "text": [
      "Matplotlib is building the font cache; this may take a moment.\n"
     ]
    }
   ],
   "source": [
    "import numpy as np\n",
    "import pandas as pd\n",
    "import matplotlib.pyplot as plt\n",
    "import seaborn as sb\n",
    "from sklearn.model_selection import train_test_split\n",
    "from sklearn.preprocessing import LabelEncoder, StandardScaler\n",
    "from sklearn import metrics\n",
    "from sklearn.svm import SVC\n",
    "from xgboost import XGBClassifier\n",
    "from sklearn.linear_model import LogisticRegression\n",
    "from imblearn.over_sampling import RandomOverSampler\n",
    "\n",
    "import warnings\n",
    "warnings.filterwarnings('ignore')\n"
   ]
  },
  {
   "cell_type": "code",
   "execution_count": 2,
   "metadata": {},
   "outputs": [
    {
     "name": "stdout",
     "output_type": "stream",
     "text": [
      "   ID  A1_Score  A2_Score  A3_Score  A4_Score  A5_Score  A6_Score  A7_Score  \\\n",
      "0   1         1         1         0         0         1         1         0   \n",
      "1   2         1         0         0         0         0         0         0   \n",
      "2   3         1         1         1         0         1         1         0   \n",
      "3   4         0         0         0         0         0         0         0   \n",
      "4   5         0         0         0         1         0         0         0   \n",
      "\n",
      "   A8_Score  A9_Score  ...        age  gender       ethnicity jaundice austim  \\\n",
      "0         0         1  ...  15.599481       m  White-European      yes     no   \n",
      "1         1         0  ...  27.181099       m           Asian       no     no   \n",
      "2         1         1  ...  31.643906       m  White-European      yes     no   \n",
      "3         0         0  ...  25.369210       m               ?       no     no   \n",
      "4         0         0  ...   9.078580       m               ?       no     no   \n",
      "\n",
      "  contry_of_res used_app_before     result     age_desc relation  \n",
      "0         India              no  12.399055  18 and more     Self  \n",
      "1        Mexico              no   6.551598  18 and more     Self  \n",
      "2         Egypt              no   3.180663  18 and more     Self  \n",
      "3         India              no   2.220766  18 and more     Self  \n",
      "4         Italy              no   7.252028  18 and more     Self  \n",
      "\n",
      "[5 rows x 21 columns]\n"
     ]
    }
   ],
   "source": [
    "df = pd.read_csv('train.csv')\n",
    "print(df.head())"
   ]
  }
 ],
 "metadata": {
  "kernelspec": {
   "display_name": "Python 3",
   "language": "python",
   "name": "python3"
  },
  "language_info": {
   "codemirror_mode": {
    "name": "ipython",
    "version": 3
   },
   "file_extension": ".py",
   "mimetype": "text/x-python",
   "name": "python",
   "nbconvert_exporter": "python",
   "pygments_lexer": "ipython3",
   "version": "3.12.2"
  }
 },
 "nbformat": 4,
 "nbformat_minor": 2
}
